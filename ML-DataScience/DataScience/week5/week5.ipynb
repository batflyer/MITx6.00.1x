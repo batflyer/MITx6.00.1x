{
 "cells": [
  {
   "cell_type": "markdown",
   "metadata": {},
   "source": [
    "# Data Science with Python: Week 5\n",
    "\n",
    "Alexander L. Hayes\n",
    "\n",
    "## numpy\n",
    "\n",
    "* Scientific computing library that provides a powerful array object.\n",
    "* Building block for virtually all scientific computing and machine learning libraries in Python.\n",
    "* Provides versatile utilities to interface with C++/Fortran code."
   ]
  },
  {
   "cell_type": "code",
   "execution_count": 1,
   "metadata": {
    "collapsed": false
   },
   "outputs": [
    {
     "name": "stdout",
     "output_type": "stream",
     "text": [
      "<class 'numpy.ndarray'>\n",
      "int64\n",
      "3\n",
      "(3,)\n",
      "[3 6 9]\n",
      "[ 4  8 12]\n",
      "[  2.71828183   7.3890561   20.08553692]\n",
      "8\n",
      "24\n",
      "[0 0 0 0]\n",
      "[1 1 1 1]\n"
     ]
    }
   ],
   "source": [
    "import numpy as np\n",
    "\n",
    "# Create Arrays\n",
    "a = np.array([1, 2, 3])\n",
    "b = np.array([2, 3, 5, 7])\n",
    "\n",
    "# Python Type\n",
    "print(type(a))\n",
    "\n",
    "# System Type\n",
    "print(a.dtype)\n",
    "\n",
    "# Size:   size(a) or a.size\n",
    "print(a.size)\n",
    "\n",
    "# Shape:  shape(a) or a.shape\n",
    "print(a.shape)\n",
    "\n",
    "# Multiply contents of an array by a constant:\n",
    "# Multiply all elements in array a by 3.\n",
    "print(3 * a)\n",
    "\n",
    "# Adding arrays together:\n",
    "print(a + (3 * a))\n",
    "\n",
    "# Apply functions to arrays:\n",
    "print(np.exp(a))\n",
    "\n",
    "# We can see the bytes per item:\n",
    "print(a.itemsize)\n",
    "\n",
    "# Bytes for a whole array:\n",
    "print(a.nbytes)\n",
    "\n",
    "# Set all items in a numpy array to 0:\n",
    "b.fill(0)\n",
    "print(b)\n",
    "\n",
    "# You can do this with slicing as well:\n",
    "b[:] = 1\n",
    "print(b)"
   ]
  },
  {
   "cell_type": "code",
   "execution_count": 2,
   "metadata": {
    "collapsed": false
   },
   "outputs": [],
   "source": [
    "# \"Where\" function\n",
    "# Flattening arrays\n",
    "# Reshape arrays by copying (so long as the dimensions match)\n",
    "# Reduce\n",
    "# Outer\n",
    "# Broadcasting: Operating on arrays where dimensions do not match?"
   ]
  },
  {
   "cell_type": "markdown",
   "metadata": {},
   "source": [
    "## pandas\n",
    "\n",
    "* http://pandas.pydata.com\n",
    "* \"high-performance, easy-to-use data structures and data analysis tools.\"\n",
    "* similar to abilities to SQL\n",
    "* Joins and merges, groupby, automatic plotting, multi-level indices, time series operations.\n",
    "\n",
    "Data structures include \"series\" (1-dimensional) and \"data frames\" (2-dimensional)."
   ]
  },
  {
   "cell_type": "code",
   "execution_count": 3,
   "metadata": {
    "collapsed": false
   },
   "outputs": [
    {
     "data": {
      "text/plain": [
       "0    1.0\n",
       "1    2.0\n",
       "2    3.0\n",
       "3    5.0\n",
       "4    7.0\n",
       "5    NaN\n",
       "dtype: float64"
      ]
     },
     "execution_count": 3,
     "metadata": {},
     "output_type": "execute_result"
    }
   ],
   "source": [
    "import pandas as pd\n",
    "\n",
    "pd.Series([1, 2, 3, 5, 7, np.NaN])"
   ]
  },
  {
   "cell_type": "code",
   "execution_count": 4,
   "metadata": {
    "collapsed": false
   },
   "outputs": [
    {
     "name": "stdout",
     "output_type": "stream",
     "text": [
      "                   a         b         c         d         e         f\n",
      "2017-10-01 -0.485777 -0.809234  0.261354 -1.403313  0.744545 -2.670676\n",
      "2017-10-02  0.617614  0.301468 -1.495759  0.595042  1.654179 -0.512459\n",
      "...\n",
      "                   a         b         c         d         e         f\n",
      "2017-10-09  0.735101  0.569015  0.484079 -0.044173 -0.383211 -0.660421\n",
      "2017-10-10  0.399839 -1.071414 -0.090127  1.332709  0.619105 -1.375219\n",
      "\n",
      "Perhaps we are only interested in the columsns:\n",
      " Index(['a', 'b', 'c', 'd', 'e', 'f'], dtype='object')\n",
      "\n",
      "Perhaps we just want the values in the data itself:\n",
      " [[-0.48577668 -0.80923436  0.26135356 -1.40331315  0.74454492 -2.67067599]\n",
      " [ 0.61761395  0.30146776 -1.49575912  0.59504248  1.65417894 -0.51245857]\n",
      " [-0.46160658  0.14182487 -0.25288841 -0.2391479   1.02215822 -1.52768387]\n",
      " [ 0.0045966   2.55513003 -1.20052018  0.33880425 -0.51175176 -0.14483781]\n",
      " [-1.45706758 -3.45559105 -0.38345109 -1.858941   -0.73022825 -1.60549361]\n",
      " [ 1.16085233 -0.232811    0.88262134 -0.77488032  0.07037269  0.63699586]\n",
      " [ 0.3632412   0.04392962  0.35674134 -1.68270343  0.50801844 -0.11175258]\n",
      " [ 0.32777734 -1.3652651  -0.9346515   0.24194387  2.42922154 -0.19732725]\n",
      " [ 0.7351015   0.56901482  0.48407851 -0.0441734  -0.38321102 -0.66042117]\n",
      " [ 0.39983895 -1.07141377 -0.09012655  1.33270932  0.619105   -1.37521862]]\n"
     ]
    }
   ],
   "source": [
    "dates = pd.date_range('20171001', periods=10)\n",
    "\n",
    "df = pd.DataFrame(np.random.randn(10, 6), index=dates, columns=pd.Series(['a', 'b', 'c', 'd', 'e', 'f']))\n",
    "\n",
    "print(df.head(2)) # First two rows\n",
    "print('...')\n",
    "print(df.tail(2)) # Last two rows\n",
    "\n",
    "print('\\nPerhaps we are only interested in the columsns:\\n', df.columns)\n",
    "print('\\nPerhaps we just want the values in the data itself:\\n', df.values)\n",
    "\n",
    "# Sort by index or values:\n",
    "# missing"
   ]
  },
  {
   "cell_type": "markdown",
   "metadata": {},
   "source": [
    "## scikit-learn\n",
    "\n",
    "* Optimized and easy-to-use implementations of common machine learning algorithms.\n",
    "* Built on scipy, numpy, and pandas.\n",
    "* A good model requires good features; features should strongly correlate with outcomes, be relatively independent of each other, and fit on the same scale. Typically this requires domain expertise.\n",
    "* Three basic types of algorithms: classification, regression, and clustering.\n",
    "\n",
    "For demonstration, we will use the classic Iris dataset (it is included in scikitlearn), which includes 150 samples each with four features (sepal length, sepal width, petal length, and petal width), classified by species (three)."
   ]
  },
  {
   "cell_type": "code",
   "execution_count": 5,
   "metadata": {
    "collapsed": false
   },
   "outputs": [
    {
     "name": "stdout",
     "output_type": "stream",
     "text": [
      "0.888888888889\n"
     ]
    }
   ],
   "source": [
    "from sklearn.datasets import load_iris\n",
    "from sklearn.model_selection import train_test_split\n",
    "from sklearn.tree import DecisionTreeClassifier\n",
    "from sklearn.metrics import accuracy_score\n",
    "\n",
    "iris = load_iris()\n",
    "\n",
    "indices = np.arange(150)\n",
    "np.random.shuffle(indices)\n",
    "\n",
    "labels = iris.target_names\n",
    "(train_data, test_data, train_labels, test_labels) = train_test_split(iris.data, iris.target, test_size=0.3)\n",
    "\n",
    "model = DecisionTreeClassifier(min_samples_split=7, min_samples_leaf=3)\n",
    "model.fit(train_data, train_labels)\n",
    "\n",
    "predicted_labels = model.predict(test_data)\n",
    "print(accuracy_score(predicted_labels, test_labels))"
   ]
  }
 ],
 "metadata": {
  "anaconda-cloud": {},
  "kernelspec": {
   "display_name": "Python [conda root]",
   "language": "python",
   "name": "conda-root-py"
  },
  "language_info": {
   "codemirror_mode": {
    "name": "ipython",
    "version": 3
   },
   "file_extension": ".py",
   "mimetype": "text/x-python",
   "name": "python",
   "nbconvert_exporter": "python",
   "pygments_lexer": "ipython3",
   "version": "3.5.2"
  }
 },
 "nbformat": 4,
 "nbformat_minor": 1
}
